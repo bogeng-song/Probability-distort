{
 "cells": [
  {
   "cell_type": "code",
   "execution_count": 1,
   "metadata": {},
   "outputs": [],
   "source": [
    "import numpy as np\n",
    "import matplotlib.pyplot as plt\n",
    "import pandas as pd\n",
    "import os\n",
    "import ast\n"
   ]
  },
  {
   "cell_type": "code",
   "execution_count": 59,
   "metadata": {},
   "outputs": [],
   "source": [
    "UDfolder_path = 'E:/Haiyan Lab project/Probability distort/data and script/4 probability data/UD4'\n",
    "UDfolder_with_path = 'E:/Haiyan Lab project/Probability distort/data and script/4 probability data/UD4_evi'"
   ]
  },
  {
   "cell_type": "code",
   "execution_count": 60,
   "metadata": {},
   "outputs": [],
   "source": [
    "probability_image_match = {'pics/Slide1.PNG':80,\n",
    "                           'pics/Slide2.PNG':20,\n",
    "                           'pics/Slide3.PNG':20,\n",
    "                           'pics/Slide4.PNG':80,\n",
    "                           'pics/Slide5.PNG':60,\n",
    "                           'pics/Slide6.PNG':40,\n",
    "                           'pics/Slide7.PNG':40,\n",
    "                           'pics/Slide8.PNG':60}"
   ]
  },
  {
   "cell_type": "code",
   "execution_count": 61,
   "metadata": {},
   "outputs": [],
   "source": [
    "target_character = \"post\"\n",
    "matched_files = []\n",
    "for filename in os.listdir(UDfolder_path):\n",
    "    if filename.endswith(\".csv\") and target_character in filename:\n",
    "        matched_files.append(os.path.join(UDfolder_path, filename))\n",
    "        \n",
    "matched_files_with = []\n",
    "for filename in os.listdir(UDfolder_with_path):\n",
    "    if filename.endswith(\".csv\") and target_character in filename:\n",
    "        matched_files_with.append(os.path.join(UDfolder_with_path, filename))\n",
    "\n"
   ]
  },
  {
   "cell_type": "code",
   "execution_count": 62,
   "metadata": {},
   "outputs": [
    {
     "name": "stderr",
     "output_type": "stream",
     "text": [
      "C:\\Users\\18611\\AppData\\Local\\Temp\\ipykernel_11756\\454974925.py:12: FutureWarning: The behavior of DataFrame concatenation with empty or all-NA entries is deprecated. In a future version, this will no longer exclude empty or all-NA columns when determining the result dtypes. To retain the old behavior, exclude the relevant entries before the concat operation.\n",
      "  UDdata_post = pd.concat([UDdata_post, subset], ignore_index=True)\n"
     ]
    }
   ],
   "source": [
    "columns = [\"test_slider.response\", \"teststi\", \"subjno\",'answer']\n",
    "UDdata_post = pd.DataFrame(columns=columns)\n",
    "for i in range(len(matched_files)):\n",
    "    data = pd.read_csv(matched_files[i])\n",
    "    rows = [1,2,3,4,5,6,7,8] \n",
    "    columns = [\"test_slider.response\", \"teststi\", \"participant\"] \n",
    "    subset = data.loc[rows, columns]\n",
    "    for ii in range(1,9):\n",
    "        subset.loc[ii, \"answer\"] = probability_image_match[subset.loc[ii, \"teststi\"]]\n",
    "        \n",
    "    subset = subset.rename(columns={\"participant\": \"subjno\"})\n",
    "    UDdata_post = pd.concat([UDdata_post, subset], ignore_index=True)"
   ]
  },
  {
   "cell_type": "code",
   "execution_count": 63,
   "metadata": {},
   "outputs": [
    {
     "name": "stderr",
     "output_type": "stream",
     "text": [
      "C:\\Users\\18611\\AppData\\Local\\Temp\\ipykernel_11756\\1969081813.py:12: FutureWarning: The behavior of DataFrame concatenation with empty or all-NA entries is deprecated. In a future version, this will no longer exclude empty or all-NA columns when determining the result dtypes. To retain the old behavior, exclude the relevant entries before the concat operation.\n",
      "  UDdata_with_post = pd.concat([UDdata_with_post, subset], ignore_index=True)\n"
     ]
    }
   ],
   "source": [
    "columns = [\"test_slider.response\", \"teststi\", \"subjno\",'answer']\n",
    "UDdata_with_post = pd.DataFrame(columns=columns)\n",
    "for i in range(len(matched_files_with)):\n",
    "    data = pd.read_csv(matched_files_with[i])\n",
    "    rows = [1,2,3,4,5,6,7,8] \n",
    "    columns = [\"test_slider.response\", \"teststi\", \"participant\"] \n",
    "    subset = data.loc[rows, columns]\n",
    "    for ii in range(1,9):\n",
    "        subset.loc[ii, \"answer\"] = probability_image_match[subset.loc[ii, \"teststi\"]]\n",
    "        \n",
    "    subset = subset.rename(columns={\"participant\": \"subjno\"})\n",
    "    UDdata_with_post = pd.concat([UDdata_with_post, subset], ignore_index=True)"
   ]
  },
  {
   "cell_type": "code",
   "execution_count": 67,
   "metadata": {},
   "outputs": [],
   "source": [
    "UDdata_post.to_csv('E:/Haiyan Lab project/Probability distort/data and script/4 probability data/UDdata_post.csv', index=True)\n",
    "UDdata_with_post.to_csv('E:/Haiyan Lab project/Probability distort/data and script/4 probability data/UDdata_with_post.csv', index=True)"
   ]
  }
 ],
 "metadata": {
  "kernelspec": {
   "display_name": "base",
   "language": "python",
   "name": "python3"
  },
  "language_info": {
   "codemirror_mode": {
    "name": "ipython",
    "version": 3
   },
   "file_extension": ".py",
   "mimetype": "text/x-python",
   "name": "python",
   "nbconvert_exporter": "python",
   "pygments_lexer": "ipython3",
   "version": "3.11.7"
  }
 },
 "nbformat": 4,
 "nbformat_minor": 2
}
